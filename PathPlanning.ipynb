{
  "nbformat": 4,
  "nbformat_minor": 0,
  "metadata": {
    "colab": {
      "name": "PathPlanning.ipynb",
      "provenance": [],
      "collapsed_sections": [],
      "mount_file_id": "17_a4jgV2C2wzKDn3JEqGaN0rKmHg8P5E",
      "authorship_tag": "ABX9TyPhsRc4RXv0SBLG4njE6oXC",
      "include_colab_link": true
    },
    "kernelspec": {
      "name": "python3",
      "display_name": "Python 3"
    },
    "language_info": {
      "name": "python"
    }
  },
  "cells": [
    {
      "cell_type": "markdown",
      "metadata": {
        "id": "view-in-github",
        "colab_type": "text"
      },
      "source": [
        "<a href=\"https://colab.research.google.com/github/mayio/CarND-Advanced-Lane-Lines/blob/master/PathPlanning.ipynb\" target=\"_parent\"><img src=\"https://colab.research.google.com/assets/colab-badge.svg\" alt=\"Open In Colab\"/></a>"
      ]
    },
    {
      "cell_type": "markdown",
      "source": [
        "# Path Planning with Quintic Functions in Frenét Coordinate System\n",
        "\n",
        "This is an introduction on how to compute a driving path for an autonomous vehicle. In this article, I focus only the trajectory creation. Obstacle perception and avoidance shall be out of scope.\n",
        "\n",
        "The idea comes from paper \n",
        "\n",
        "> Werling, M., Ziegler, J., Kammel, S., & Thrun, S. Optimal Trajectory Generation for Dynamic Street Scenarios in a Frenét Frame. \n",
        "\n",
        "I would like to show in detail how this is put into practice. I will omit all references to this paper in this article, as all ideas coming from there or the referenced documents.\n",
        "\n",
        "Maneuvers of a car shall be as smooth as possible. Hard turns or hard deceleration are only required in dangerous situations. Thus, we need a function that minimizes   Jerk, which is used in physics to describe how much the acceleration changes.\n",
        "\n",
        "Assume that a car is lateral misplaced from the desired lane and should return to the optimal position while making a compromise between comfort and duration of the maneuver. The same compromise has to be found for the speed of the car. It shall not drive too close or too far to the vehicle in front. Two cost function, lateral and longitudinal, can be utilized to minimize jerk. \n",
        "\n",
        "\n",
        "![title](content/FrenetFig2.png)\n",
        "\n",
        "\n",
        "Fig. 2 in Paper: Optimal Trajectory Generation for Dynamic Street Scenarios in a Frenét Frame.By switching from Cartesian to the Frenét reference frame it is possible to formulate a one dimensional trajectory with the root point r along the center line, the perpendicular offset d and the arc length s."
      ],
      "metadata": {
        "id": "t9eedp6tBaZt"
      }
    }
  ]
}